{
 "cells": [
  {
   "cell_type": "code",
   "execution_count": null,
   "id": "0a86483f",
   "metadata": {},
   "outputs": [],
   "source": [
    "#Importing Libraries\n",
    "import pandas as pd\n",
    "from datasets import load_dataset\n",
    "import matplotlib.pyplot as plt\n",
    "\n",
    "#Loading Data\n",
    "dataset = load_dataset('lukebarousse/data_jobs')\n",
    "df = dataset['train'].to_pandas()\n",
    "\n",
    "#Data Cleanup\n",
    "df['job_posted_date'] = pd.to_datetime(df['job_posted_date'])"
   ]
  },
  {
   "cell_type": "code",
   "execution_count": 28,
   "id": "07cf7b0a",
   "metadata": {},
   "outputs": [],
   "source": [
    "# df.loc[0:10, 'job_work_from_home':'job_posted_date']"
   ]
  },
  {
   "cell_type": "code",
   "execution_count": 29,
   "id": "0b93ad76",
   "metadata": {},
   "outputs": [],
   "source": [
    "# first_fifteen = df.iloc[0:15][df.iloc[0:15]['job_country'] == 'United States']\n",
    "# first_fifteen"
   ]
  },
  {
   "cell_type": "code",
   "execution_count": 30,
   "id": "6ba89503",
   "metadata": {},
   "outputs": [],
   "source": [
    "# fifteen_raws = df[df.job_country == 'United States'].head(15)\n",
    "# fifteen_raws"
   ]
  },
  {
   "cell_type": "code",
   "execution_count": 31,
   "id": "f5e5d4fd",
   "metadata": {},
   "outputs": [],
   "source": [
    "# df.job_posted_date.sort_values()"
   ]
  },
  {
   "cell_type": "code",
   "execution_count": null,
   "id": "1662e57d",
   "metadata": {},
   "outputs": [],
   "source": []
  }
 ],
 "metadata": {
  "kernelspec": {
   "display_name": "python_course",
   "language": "python",
   "name": "python3"
  },
  "language_info": {
   "codemirror_mode": {
    "name": "ipython",
    "version": 3
   },
   "file_extension": ".py",
   "mimetype": "text/x-python",
   "name": "python",
   "nbconvert_exporter": "python",
   "pygments_lexer": "ipython3",
   "version": "3.13.5"
  }
 },
 "nbformat": 4,
 "nbformat_minor": 5
}
